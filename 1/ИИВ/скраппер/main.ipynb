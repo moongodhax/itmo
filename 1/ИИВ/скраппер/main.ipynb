{
 "cells": [
  {
   "cell_type": "code",
   "execution_count": null,
   "metadata": {},
   "outputs": [],
   "source": [
    "%pip install requests\n",
    "%pip install bs4"
   ]
  },
  {
   "cell_type": "code",
   "execution_count": 20,
   "metadata": {},
   "outputs": [],
   "source": [
    "import requests\n",
    "from bs4 import BeautifulSoup\n",
    "import csv"
   ]
  },
  {
   "cell_type": "code",
   "execution_count": 49,
   "metadata": {},
   "outputs": [],
   "source": [
    "def parse(html):\n",
    "    csv_header = [\"Название\", \"Автор\", \"Ссылка\"]\n",
    "    csv_rows = []\n",
    "\n",
    "    soup = BeautifulSoup(html, 'html.parser')\n",
    "    table = soup.find(id = \"restab\")\n",
    "    rows = table.css.select('tr[bgcolor=\"#f5f5f5\"]')\n",
    "    for i in range(min(len(rows), 30)):\n",
    "        cell = rows[i].contents[3]\n",
    "        a = cell.find('a')\n",
    "        url = \"https://www.elibrary.ru\" + a['href']\n",
    "        title = a.string\n",
    "        font = cell.css.select('font[color=\"#00008f\"]')\n",
    "        author = font[0].string\n",
    "\n",
    "        csv_rows.append([title, author, url])\n",
    "\n",
    "        with open('result.csv', 'w', encoding='UTF8', newline='') as f:\n",
    "            writer = csv.writer(f, quoting = csv.QUOTE_ALL)\n",
    "            writer.writerow(csv_header)\n",
    "            writer.writerows(csv_rows)\n",
    "        \n",
    "    print(\"ready\")"
   ]
  },
  {
   "cell_type": "code",
   "execution_count": 52,
   "metadata": {},
   "outputs": [
    {
     "name": "stdout",
     "output_type": "stream",
     "text": [
      "200\n",
      "200\n",
      "ready\n"
     ]
    }
   ],
   "source": [
    "search_form_data = {\n",
    "    \"where_fulltext\": \"on\",\n",
    "    \"where_name\": \"on\",\n",
    "    \"where_abstract\": \"on\",\n",
    "    \"where_keywords\": \"on\",\n",
    "    \"where_affiliation\": \"on\",\n",
    "    \"where_references\": \"on\",\n",
    "    \"type_article\": \"on\",\n",
    "    \"type_disser\": \"on\",\n",
    "    \"type_book\": \"on\",\n",
    "    \"type_report\": \"on\",\n",
    "    \"type_conf\": \"on\",\n",
    "    \"type_patent\": \"on\",\n",
    "    \"type_preprint\": \"on\",\n",
    "    \"type_grant\": \"on\",\n",
    "    \"type_dataset\": \"on\",\n",
    "    \"search_freetext\": \"\",\n",
    "    \"search_morph\": \"on\",\n",
    "    \"search_fulltext\": \"\",\n",
    "    \"search_open\": \"\",\n",
    "    \"search_results\": \"\",\n",
    "    \"titles_all\": \"\",\n",
    "    \"authors_all\": \"\",\n",
    "    \"rubrics_all\": \"\",\n",
    "    \"queryboxid\": \"\",\n",
    "    \"itemboxid\": \"\",\n",
    "    \"begin_year\": \"\",\n",
    "    \"end_year\": \"\",\n",
    "    \"issues\": \"all\",\n",
    "    \"orderby\": \"rank\",\n",
    "    \"order\": \"rev\",\n",
    "    \"changed\": \"1\",\n",
    "\n",
    "    \"ftext\": \"webassembly\", # поисковый запрос\n",
    "}\n",
    "\n",
    "headers = {\n",
    "    \"user-agent\": \"Mozilla/5.0 (Windows NT 10.0; Win64; x64) AppleWebKit/537.36 (KHTML, like Gecko) Chrome/118.0.0.0 Safari/537.36\",\n",
    "    \"Referer\": \"https://www.elibrary.ru/\"\n",
    "}\n",
    "\n",
    "s = requests.Session()\n",
    "\n",
    "login = input(\"Введите логин: \")\n",
    "password = input(\"Введите пароль: \")\n",
    "\n",
    "login_form_data = {\n",
    "    \"rpage\": \"https://elibrary.ru/defaultx.asp\",\n",
    "    \"login\": login,\n",
    "    \"password\": password\n",
    "}\n",
    "\n",
    "response = s.post(\"https://www.elibrary.ru/start_session.asp\", files = login_form_data, headers = headers) # тут он хочет именно formdata, поэтому параметр files\n",
    "print(response.status_code)\n",
    "\n",
    "response = s.post(url = \"https://www.elibrary.ru/query_results.asp\", data = search_form_data, headers = headers) # а тут хавает из параметра data\n",
    "if (response.status_code == 200):\n",
    "    print(200)\n",
    "    parse(response.text)\n",
    "    with open(\"test.html\", \"w\", encoding=\"utf-8\") as f:\n",
    "        f.write(response.text)"
   ]
  }
 ],
 "metadata": {
  "kernelspec": {
   "display_name": "Python 3",
   "language": "python",
   "name": "python3"
  },
  "language_info": {
   "codemirror_mode": {
    "name": "ipython",
    "version": 3
   },
   "file_extension": ".py",
   "mimetype": "text/x-python",
   "name": "python",
   "nbconvert_exporter": "python",
   "pygments_lexer": "ipython3",
   "version": "3.11.5"
  }
 },
 "nbformat": 4,
 "nbformat_minor": 2
}
